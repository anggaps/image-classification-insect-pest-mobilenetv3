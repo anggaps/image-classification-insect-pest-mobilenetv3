{
 "cells": [
  {
   "cell_type": "code",
   "execution_count": 10,
   "metadata": {},
   "outputs": [],
   "source": [
    "import numpy as np \n",
    "import pandas as pd \n",
    "import matplotlib.pyplot as plt\n",
    "import tensorflow as tf\n",
    "from tensorflow import keras\n",
    "from tensorflow.keras.preprocessing import image_dataset_from_directory\n",
    "from tensorflow.keras.preprocessing.image import ImageDataGenerator\n",
    "from tensorflow.keras import layers\n",
    "from tensorflow.keras.layers.experimental import preprocessing\n",
    "from tensorflow.keras.models import load_model\n",
    "from keras.applications.vgg16 import VGG16\n",
    "from tensorflow.keras.applications import MobileNetV2\n",
    "from tensorflow.keras.callbacks import EarlyStopping\n",
    "import os"
   ]
  },
  {
   "cell_type": "code",
   "execution_count": 11,
   "metadata": {},
   "outputs": [
    {
     "data": {
      "text/plain": [
       "['Adristyrannus',\n",
       " 'Aleurocanthus spiniferus',\n",
       " 'Ampelophaga',\n",
       " 'Aphis citricola Vander Goot',\n",
       " 'Apolygus lucorum',\n",
       " 'Bactrocera tsuneonis',\n",
       " 'Beet spot flies',\n",
       " 'Brevipoalpus lewisi McGregor',\n",
       " 'Ceroplastes rubens',\n",
       " 'Chlumetia transversa',\n",
       " 'Chrysomphalus aonidum',\n",
       " 'Cicadella viridis',\n",
       " 'Cicadellidae',\n",
       " 'Colomerus vitis',\n",
       " 'Dacus dorsalis(Hendel)',\n",
       " 'Dasineura sp',\n",
       " 'Deporaus marginatus Pascoe',\n",
       " 'Erythroneura apicalis',\n",
       " 'Icerya purchasi Maskell',\n",
       " 'Lawana imitata Melichar',\n",
       " 'Limacodidae',\n",
       " 'Locustoidea',\n",
       " 'Lycorma delicatula',\n",
       " 'Mango flat beak leafhopper',\n",
       " 'Miridae',\n",
       " 'Nipaecoccus vastalor',\n",
       " 'Panonchus citri McGregor',\n",
       " 'Papilio xuthus',\n",
       " 'Parlatoria zizyphus Lucus',\n",
       " 'Phyllocnistis citrella Stainton',\n",
       " 'Phyllocoptes oleiverus ashmead',\n",
       " 'Pieris canidia',\n",
       " 'Polyphagotars onemus latus',\n",
       " 'Potosiabre vitarsis',\n",
       " 'Prodenia litura',\n",
       " 'Pseudococcus comstocki Kuwana',\n",
       " 'Rhytidodera bowrinii white',\n",
       " 'Rice Stemfly',\n",
       " 'Salurnis marginella Guerr',\n",
       " 'Scirtothrips dorsalis Hood',\n",
       " 'Sternochetus frigidus',\n",
       " 'Tetradacus c Bactrocera minax',\n",
       " 'Thrips',\n",
       " 'Toxoptera aurantii',\n",
       " 'Toxoptera citricidus',\n",
       " 'Trialeurodes vaporariorum',\n",
       " 'Unaspis yanonensis',\n",
       " 'Viteus vitifoliae',\n",
       " 'Xylotrechus',\n",
       " 'alfalfa plant bug',\n",
       " 'alfalfa seed chalcid',\n",
       " 'alfalfa weevil',\n",
       " 'aphids',\n",
       " 'army worm',\n",
       " 'asiatic rice borer',\n",
       " 'beet army worm',\n",
       " 'beet fly',\n",
       " 'beet weevil',\n",
       " 'bird cherry-oataphid',\n",
       " 'black cutworm',\n",
       " 'blister beetle',\n",
       " 'brown plant hopper',\n",
       " 'cabbage army worm',\n",
       " 'cerodonta denticornis',\n",
       " 'corn borer',\n",
       " 'english grain aphid',\n",
       " 'flax budworm',\n",
       " 'flea beetle',\n",
       " 'grain spreader thrips',\n",
       " 'green bug',\n",
       " 'grub',\n",
       " 'large cutworm',\n",
       " 'legume blister beetle',\n",
       " 'longlegged spider mite',\n",
       " 'lytta polita',\n",
       " 'meadow moth',\n",
       " 'mole cricket',\n",
       " 'odontothrips loti',\n",
       " 'oides decempunctata',\n",
       " 'paddy stem maggot',\n",
       " 'parathrene regalis',\n",
       " 'peach borer',\n",
       " 'penthaleus major',\n",
       " 'red spider',\n",
       " 'rice gall midge',\n",
       " 'rice leaf caterpillar',\n",
       " 'rice leaf roller',\n",
       " 'rice leafhopper',\n",
       " 'rice shell pest',\n",
       " 'rice water weevil',\n",
       " 'sericaorient alismots chulsky',\n",
       " 'small brown plant hopper',\n",
       " 'tarnished plant bug',\n",
       " 'therioaphis maculata Buckton',\n",
       " 'wheat blossom midge',\n",
       " 'wheat phloeothrips',\n",
       " 'wheat sawfly',\n",
       " 'white backed plant hopper',\n",
       " 'white margined moth',\n",
       " 'wireworm',\n",
       " 'yellow cutworm',\n",
       " 'yellow rice borer']"
      ]
     },
     "execution_count": 11,
     "metadata": {},
     "output_type": "execute_result"
    }
   ],
   "source": [
    "# all class names...\n",
    "dir_list = sorted(os.listdir('classification/ip102_v1.1/train'))\n",
    "class_names_lst = [dir_name for dir_name in dir_list]\n",
    "class_names_lst"
   ]
  },
  {
   "cell_type": "code",
   "execution_count": 12,
   "metadata": {},
   "outputs": [],
   "source": [
    "test_list = sorted(os.listdir('classification/ip102_v1.1/test'))"
   ]
  },
  {
   "cell_type": "code",
   "execution_count": 13,
   "metadata": {},
   "outputs": [
    {
     "name": "stdout",
     "output_type": "stream",
     "text": [
      "Found 38381 images belonging to 102 classes.\n",
      "Found 1077 images belonging to 102 classes.\n"
     ]
    }
   ],
   "source": [
    "# load train and test data\n",
    "image_generator = ImageDataGenerator(\n",
    "    rescale = 1. / 255,\n",
    "    horizontal_flip = True,\n",
    "    vertical_flip = False,\n",
    "    rotation_range = 25,\n",
    "    zoom_range=0.5,\n",
    "    validation_split=0.15\n",
    ")\n",
    "train_data = image_generator.flow_from_directory(\n",
    "    'classification/ip102_v1.1/train',\n",
    "    target_size = (299, 299),\n",
    "    color_mode = 'rgb',\n",
    "    classes = class_names_lst,\n",
    "    class_mode = 'categorical',\n",
    "    batch_size = 32,\n",
    "    subset = 'training'\n",
    ")\n",
    "valid_data = image_generator.flow_from_directory(\n",
    "    'classification/ip102_v1.1/val',\n",
    "    target_size = (299, 299),\n",
    "    color_mode = 'rgb',\n",
    "    classes = class_names_lst,\n",
    "    class_mode = 'categorical',\n",
    "    batch_size = 32,\n",
    "    subset = 'validation'\n",
    ")"
   ]
  },
  {
   "cell_type": "code",
   "execution_count": 15,
   "metadata": {},
   "outputs": [
    {
     "name": "stdout",
     "output_type": "stream",
     "text": [
      "Found 0 images belonging to 1 classes.\n"
     ]
    }
   ],
   "source": [
    "test_generator = ImageDataGenerator(\n",
    "    rescale = 1. / 255,\n",
    ")\n",
    "test_data = test_generator.flow_from_directory(\n",
    "    'classification/ip102_v1.1/test',\n",
    "    target_size = (299, 299),\n",
    "    classes = ['test'],\n",
    "    class_mode = 'categorical',\n",
    "    color_mode = 'rgb',\n",
    "    batch_size = 1,\n",
    "    shuffle = False\n",
    ")"
   ]
  },
  {
   "cell_type": "code",
   "execution_count": null,
   "metadata": {},
   "outputs": [],
   "source": []
  }
 ],
 "metadata": {
  "kernelspec": {
   "display_name": "Python 3.9.12 ('env')",
   "language": "python",
   "name": "python3"
  },
  "language_info": {
   "codemirror_mode": {
    "name": "ipython",
    "version": 3
   },
   "file_extension": ".py",
   "mimetype": "text/x-python",
   "name": "python",
   "nbconvert_exporter": "python",
   "pygments_lexer": "ipython3",
   "version": "3.9.12"
  },
  "orig_nbformat": 4,
  "vscode": {
   "interpreter": {
    "hash": "dd4a3adfe44135f2a5728d6d7aeb531922408284a681611000fda8b210e3dfee"
   }
  }
 },
 "nbformat": 4,
 "nbformat_minor": 2
}
